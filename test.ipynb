{
  "nbformat": 4,
  "nbformat_minor": 0,
  "metadata": {
    "colab": {
      "name": "Untitled0.ipynb",
      "provenance": [],
      "include_colab_link": true
    },
    "kernelspec": {
      "name": "python3",
      "display_name": "Python 3"
    }
  },
  "cells": [
    {
      "cell_type": "markdown",
      "metadata": {
        "id": "view-in-github",
        "colab_type": "text"
      },
      "source": [
        "<a href=\"https://colab.research.google.com/github/kongqiahaha/Algorithm_Interview_Notes-Chinese/blob/master/test.ipynb\" target=\"_parent\"><img src=\"https://colab.research.google.com/assets/colab-badge.svg\" alt=\"Open In Colab\"/></a>"
      ]
    },
    {
      "cell_type": "code",
      "metadata": {
        "id": "FZDx3BeNuSdo",
        "colab_type": "code",
        "outputId": "de82f508-1e5b-4eba-d0fe-5c73b560da15",
        "colab": {
          "base_uri": "https://localhost:8080/",
          "height": 185
        }
      },
      "source": [
        "import numpy as np\n",
        "import random as rd\n",
        "for i in range(10):\n",
        "  a = rd.randint(0,100)\n",
        "  print(a,i)\n"
      ],
      "execution_count": 3,
      "outputs": [
        {
          "output_type": "stream",
          "text": [
            "2 0\n",
            "63 1\n",
            "5 2\n",
            "29 3\n",
            "75 4\n",
            "50 5\n",
            "32 6\n",
            "98 7\n",
            "45 8\n",
            "96 9\n"
          ],
          "name": "stdout"
        }
      ]
    }
  ]
}